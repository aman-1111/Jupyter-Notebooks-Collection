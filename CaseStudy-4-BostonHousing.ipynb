{
 "cells": [
  {
   "cell_type": "code",
   "execution_count": 2,
   "id": "523f3e5d-1cf8-4d9f-bac9-24225ea81641",
   "metadata": {},
   "outputs": [],
   "source": [
    "import pandas as pd\n",
    "import seaborn as sns\n",
    "import matplotlib.pyplot as plt"
   ]
  },
  {
   "cell_type": "code",
   "execution_count": 4,
   "id": "f97b6c1b-97ee-439a-ac62-9475322827c9",
   "metadata": {},
   "outputs": [],
   "source": [
    "df=pd.read_csv(\"/home/aman-chaurasia/Documents/BostonHousing/BostonHousing.csv\")"
   ]
  },
  {
   "cell_type": "code",
   "execution_count": 6,
   "id": "21f6c565-db73-410a-83cb-c746e16298ea",
   "metadata": {},
   "outputs": [
    {
     "data": {
      "text/html": [
       "<div>\n",
       "<style scoped>\n",
       "    .dataframe tbody tr th:only-of-type {\n",
       "        vertical-align: middle;\n",
       "    }\n",
       "\n",
       "    .dataframe tbody tr th {\n",
       "        vertical-align: top;\n",
       "    }\n",
       "\n",
       "    .dataframe thead th {\n",
       "        text-align: right;\n",
       "    }\n",
       "</style>\n",
       "<table border=\"1\" class=\"dataframe\">\n",
       "  <thead>\n",
       "    <tr style=\"text-align: right;\">\n",
       "      <th></th>\n",
       "      <th>crim</th>\n",
       "      <th>zn</th>\n",
       "      <th>indus</th>\n",
       "      <th>chas</th>\n",
       "      <th>nox</th>\n",
       "      <th>rm</th>\n",
       "      <th>age</th>\n",
       "      <th>dis</th>\n",
       "      <th>rad</th>\n",
       "      <th>tax</th>\n",
       "      <th>ptratio</th>\n",
       "      <th>b</th>\n",
       "      <th>lstat</th>\n",
       "      <th>medv</th>\n",
       "    </tr>\n",
       "  </thead>\n",
       "  <tbody>\n",
       "    <tr>\n",
       "      <th>0</th>\n",
       "      <td>0.00632</td>\n",
       "      <td>18.0</td>\n",
       "      <td>2.31</td>\n",
       "      <td>0</td>\n",
       "      <td>0.538</td>\n",
       "      <td>6.575</td>\n",
       "      <td>65.2</td>\n",
       "      <td>4.0900</td>\n",
       "      <td>1</td>\n",
       "      <td>296</td>\n",
       "      <td>15.3</td>\n",
       "      <td>396.90</td>\n",
       "      <td>4.98</td>\n",
       "      <td>24.0</td>\n",
       "    </tr>\n",
       "    <tr>\n",
       "      <th>1</th>\n",
       "      <td>0.02731</td>\n",
       "      <td>0.0</td>\n",
       "      <td>7.07</td>\n",
       "      <td>0</td>\n",
       "      <td>0.469</td>\n",
       "      <td>6.421</td>\n",
       "      <td>78.9</td>\n",
       "      <td>4.9671</td>\n",
       "      <td>2</td>\n",
       "      <td>242</td>\n",
       "      <td>17.8</td>\n",
       "      <td>396.90</td>\n",
       "      <td>9.14</td>\n",
       "      <td>21.6</td>\n",
       "    </tr>\n",
       "    <tr>\n",
       "      <th>2</th>\n",
       "      <td>0.02729</td>\n",
       "      <td>0.0</td>\n",
       "      <td>7.07</td>\n",
       "      <td>0</td>\n",
       "      <td>0.469</td>\n",
       "      <td>7.185</td>\n",
       "      <td>61.1</td>\n",
       "      <td>4.9671</td>\n",
       "      <td>2</td>\n",
       "      <td>242</td>\n",
       "      <td>17.8</td>\n",
       "      <td>392.83</td>\n",
       "      <td>4.03</td>\n",
       "      <td>34.7</td>\n",
       "    </tr>\n",
       "    <tr>\n",
       "      <th>3</th>\n",
       "      <td>0.03237</td>\n",
       "      <td>0.0</td>\n",
       "      <td>2.18</td>\n",
       "      <td>0</td>\n",
       "      <td>0.458</td>\n",
       "      <td>6.998</td>\n",
       "      <td>45.8</td>\n",
       "      <td>6.0622</td>\n",
       "      <td>3</td>\n",
       "      <td>222</td>\n",
       "      <td>18.7</td>\n",
       "      <td>394.63</td>\n",
       "      <td>2.94</td>\n",
       "      <td>33.4</td>\n",
       "    </tr>\n",
       "    <tr>\n",
       "      <th>4</th>\n",
       "      <td>0.06905</td>\n",
       "      <td>0.0</td>\n",
       "      <td>2.18</td>\n",
       "      <td>0</td>\n",
       "      <td>0.458</td>\n",
       "      <td>7.147</td>\n",
       "      <td>54.2</td>\n",
       "      <td>6.0622</td>\n",
       "      <td>3</td>\n",
       "      <td>222</td>\n",
       "      <td>18.7</td>\n",
       "      <td>396.90</td>\n",
       "      <td>5.33</td>\n",
       "      <td>36.2</td>\n",
       "    </tr>\n",
       "    <tr>\n",
       "      <th>...</th>\n",
       "      <td>...</td>\n",
       "      <td>...</td>\n",
       "      <td>...</td>\n",
       "      <td>...</td>\n",
       "      <td>...</td>\n",
       "      <td>...</td>\n",
       "      <td>...</td>\n",
       "      <td>...</td>\n",
       "      <td>...</td>\n",
       "      <td>...</td>\n",
       "      <td>...</td>\n",
       "      <td>...</td>\n",
       "      <td>...</td>\n",
       "      <td>...</td>\n",
       "    </tr>\n",
       "    <tr>\n",
       "      <th>501</th>\n",
       "      <td>0.06263</td>\n",
       "      <td>0.0</td>\n",
       "      <td>11.93</td>\n",
       "      <td>0</td>\n",
       "      <td>0.573</td>\n",
       "      <td>6.593</td>\n",
       "      <td>69.1</td>\n",
       "      <td>2.4786</td>\n",
       "      <td>1</td>\n",
       "      <td>273</td>\n",
       "      <td>21.0</td>\n",
       "      <td>391.99</td>\n",
       "      <td>9.67</td>\n",
       "      <td>22.4</td>\n",
       "    </tr>\n",
       "    <tr>\n",
       "      <th>502</th>\n",
       "      <td>0.04527</td>\n",
       "      <td>0.0</td>\n",
       "      <td>11.93</td>\n",
       "      <td>0</td>\n",
       "      <td>0.573</td>\n",
       "      <td>6.120</td>\n",
       "      <td>76.7</td>\n",
       "      <td>2.2875</td>\n",
       "      <td>1</td>\n",
       "      <td>273</td>\n",
       "      <td>21.0</td>\n",
       "      <td>396.90</td>\n",
       "      <td>9.08</td>\n",
       "      <td>20.6</td>\n",
       "    </tr>\n",
       "    <tr>\n",
       "      <th>503</th>\n",
       "      <td>0.06076</td>\n",
       "      <td>0.0</td>\n",
       "      <td>11.93</td>\n",
       "      <td>0</td>\n",
       "      <td>0.573</td>\n",
       "      <td>6.976</td>\n",
       "      <td>91.0</td>\n",
       "      <td>2.1675</td>\n",
       "      <td>1</td>\n",
       "      <td>273</td>\n",
       "      <td>21.0</td>\n",
       "      <td>396.90</td>\n",
       "      <td>5.64</td>\n",
       "      <td>23.9</td>\n",
       "    </tr>\n",
       "    <tr>\n",
       "      <th>504</th>\n",
       "      <td>0.10959</td>\n",
       "      <td>0.0</td>\n",
       "      <td>11.93</td>\n",
       "      <td>0</td>\n",
       "      <td>0.573</td>\n",
       "      <td>6.794</td>\n",
       "      <td>89.3</td>\n",
       "      <td>2.3889</td>\n",
       "      <td>1</td>\n",
       "      <td>273</td>\n",
       "      <td>21.0</td>\n",
       "      <td>393.45</td>\n",
       "      <td>6.48</td>\n",
       "      <td>22.0</td>\n",
       "    </tr>\n",
       "    <tr>\n",
       "      <th>505</th>\n",
       "      <td>0.04741</td>\n",
       "      <td>0.0</td>\n",
       "      <td>11.93</td>\n",
       "      <td>0</td>\n",
       "      <td>0.573</td>\n",
       "      <td>6.030</td>\n",
       "      <td>80.8</td>\n",
       "      <td>2.5050</td>\n",
       "      <td>1</td>\n",
       "      <td>273</td>\n",
       "      <td>21.0</td>\n",
       "      <td>396.90</td>\n",
       "      <td>7.88</td>\n",
       "      <td>11.9</td>\n",
       "    </tr>\n",
       "  </tbody>\n",
       "</table>\n",
       "<p>506 rows × 14 columns</p>\n",
       "</div>"
      ],
      "text/plain": [
       "        crim    zn  indus  chas    nox     rm   age     dis  rad  tax  \\\n",
       "0    0.00632  18.0   2.31     0  0.538  6.575  65.2  4.0900    1  296   \n",
       "1    0.02731   0.0   7.07     0  0.469  6.421  78.9  4.9671    2  242   \n",
       "2    0.02729   0.0   7.07     0  0.469  7.185  61.1  4.9671    2  242   \n",
       "3    0.03237   0.0   2.18     0  0.458  6.998  45.8  6.0622    3  222   \n",
       "4    0.06905   0.0   2.18     0  0.458  7.147  54.2  6.0622    3  222   \n",
       "..       ...   ...    ...   ...    ...    ...   ...     ...  ...  ...   \n",
       "501  0.06263   0.0  11.93     0  0.573  6.593  69.1  2.4786    1  273   \n",
       "502  0.04527   0.0  11.93     0  0.573  6.120  76.7  2.2875    1  273   \n",
       "503  0.06076   0.0  11.93     0  0.573  6.976  91.0  2.1675    1  273   \n",
       "504  0.10959   0.0  11.93     0  0.573  6.794  89.3  2.3889    1  273   \n",
       "505  0.04741   0.0  11.93     0  0.573  6.030  80.8  2.5050    1  273   \n",
       "\n",
       "     ptratio       b  lstat  medv  \n",
       "0       15.3  396.90   4.98  24.0  \n",
       "1       17.8  396.90   9.14  21.6  \n",
       "2       17.8  392.83   4.03  34.7  \n",
       "3       18.7  394.63   2.94  33.4  \n",
       "4       18.7  396.90   5.33  36.2  \n",
       "..       ...     ...    ...   ...  \n",
       "501     21.0  391.99   9.67  22.4  \n",
       "502     21.0  396.90   9.08  20.6  \n",
       "503     21.0  396.90   5.64  23.9  \n",
       "504     21.0  393.45   6.48  22.0  \n",
       "505     21.0  396.90   7.88  11.9  \n",
       "\n",
       "[506 rows x 14 columns]"
      ]
     },
     "execution_count": 6,
     "metadata": {},
     "output_type": "execute_result"
    }
   ],
   "source": [
    "df"
   ]
  },
  {
   "cell_type": "code",
   "execution_count": 24,
   "id": "f63cd538-8004-44c8-bfd7-816457acc496",
   "metadata": {},
   "outputs": [],
   "source": [
    "df.corr(numeric_only=True)"
   ]
  },
  {
   "cell_type": "code",
   "execution_count": 25,
   "id": "4ae113e5-1d21-4959-98b3-25330fb3242a",
   "metadata": {},
   "outputs": [],
   "source": [
    "df.corr()"
   ]
  },
  {
   "cell_type": "code",
   "execution_count": 35,
   "id": "cc784034-c561-4819-b268-eb47d145e6a6",
   "metadata": {},
   "outputs": [],
   "source": [
    "plt.figure(figsize=(15,10))\n",
    "sns.heatmap(df.corr(numeric_only=True),cmap=\"coolwarm\",annot=True)"
   ]
  },
  {
   "cell_type": "code",
   "execution_count": 16,
   "id": "16467efc-9fe1-4222-8f2a-c3df1a589294",
   "metadata": {},
   "outputs": [],
   "source": [
    "sns.scatterplot(data=a,x=\"b\",y=\"crim\")"
   ]
  },
  {
   "cell_type": "code",
   "execution_count": 27,
   "id": "7864a35e-6f13-4769-b5b9-1f2468499af7",
   "metadata": {},
   "outputs": [],
   "source": [
    "sns.pairplot(df)"
   ]
  },
  {
   "cell_type": "code",
   "execution_count": 8,
   "id": "f7075aa6-ae7f-43ce-9c28-b2d753131171",
   "metadata": {},
   "outputs": [],
   "source": [
    "sns.scatterplot(data=df,x=\"crim\",y=\"indus\")"
   ]
  },
  {
   "cell_type": "code",
   "execution_count": 6,
   "id": "7e924780-830f-4d85-b826-63285b12778c",
   "metadata": {},
   "outputs": [],
   "source": [
    "test = df.iloc[:,:]\n",
    "test"
   ]
  },
  {
   "cell_type": "markdown",
   "id": "27d670c4-5d26-4d93-b8a0-6ee985cf5978",
   "metadata": {},
   "source": [
    "**before comma is a row and after comma is a column**"
   ]
  },
  {
   "cell_type": "code",
   "execution_count": 9,
   "id": "926830b3-2644-4888-ba7d-c721b8f833c9",
   "metadata": {},
   "outputs": [],
   "source": [
    "test=df.iloc[:,:]\n",
    "test.shape"
   ]
  },
  {
   "cell_type": "code",
   "execution_count": 8,
   "id": "5e179cf3-5858-40e1-9955-4bec39475f66",
   "metadata": {},
   "outputs": [],
   "source": [
    "test=df.iloc[10:,:]\n",
    "test.shape"
   ]
  },
  {
   "cell_type": "code",
   "execution_count": 10,
   "id": "e637b510-5ab5-4a22-9b06-012f8997a663",
   "metadata": {},
   "outputs": [],
   "source": [
    "test=df.iloc[10:20,:]\n",
    "test.shape"
   ]
  },
  {
   "cell_type": "markdown",
   "id": "1093d5b3-39d0-4858-8523-59452de186c5",
   "metadata": {},
   "source": [
    "**5 before : is used to take first 5 column**"
   ]
  },
  {
   "cell_type": "code",
   "execution_count": 17,
   "id": "636f787f-f6dd-481e-a3c0-526e65414115",
   "metadata": {},
   "outputs": [],
   "source": [
    "test=df.iloc[:,5:]\n",
    "test.shape"
   ]
  },
  {
   "cell_type": "markdown",
   "id": "38d9c22a-0851-4311-aa3e-f572f6617597",
   "metadata": {},
   "source": [
    "**5 after colon is used to take last 5 column**"
   ]
  },
  {
   "cell_type": "code",
   "execution_count": 15,
   "id": "bab5bdeb-bedf-4485-8696-666b5e448ea0",
   "metadata": {},
   "outputs": [],
   "source": [
    "test=df.iloc[0:10,:]\n",
    "test.shape"
   ]
  },
  {
   "cell_type": "code",
   "execution_count": 18,
   "id": "3eeaeec3-336d-4de6-9762-f6d5ac7b7815",
   "metadata": {},
   "outputs": [],
   "source": [
    "test"
   ]
  },
  {
   "cell_type": "code",
   "execution_count": null,
   "id": "371ed8e0-29d9-475a-b489-bf3bbcaa6da0",
   "metadata": {},
   "outputs": [],
   "source": [
    "** if we like to take first 13 col"
   ]
  },
  {
   "cell_type": "code",
   "execution_count": 23,
   "id": "89350009-34f7-463e-b25c-79180c6ba300",
   "metadata": {},
   "outputs": [],
   "source": [
    "from sklearn.model_selection import train_test_split\n",
    "from sklearn.linear_model import LinearRegression"
   ]
  },
  {
   "cell_type": "code",
   "execution_count": 21,
   "id": "12bc575a-c01e-44fb-9c7f-b5c3fef1e846",
   "metadata": {},
   "outputs": [],
   "source": [
    "x=df.iloc[:,:13]\n",
    "y=df[\"medv\"]\n",
    "train_x,test_x,train_y,test_y=train_test_split(\n",
    "    x,y,random_state=10,test_size=0.3\n",
    ")"
   ]
  },
  {
   "cell_type": "code",
   "execution_count": 24,
   "id": "5813319b-f6f5-48b2-ab96-e81e3e1279bd",
   "metadata": {},
   "outputs": [],
   "source": [
    "lin_model = LinearRegression()  \n",
    "lin_model.fit(pd.DataFrame(train_x),train_y)"
   ]
  },
  {
   "cell_type": "code",
   "execution_count": 25,
   "id": "6cff81ad-c2e6-4d90-9205-d4b4efebefde",
   "metadata": {},
   "outputs": [],
   "source": [
    "train_x"
   ]
  },
  {
   "cell_type": "code",
   "execution_count": 26,
   "id": "9c2fb0d4-3c09-4681-ad42-4c58129df356",
   "metadata": {},
   "outputs": [],
   "source": [
    "train_y"
   ]
  },
  {
   "cell_type": "code",
   "execution_count": 27,
   "id": "11d38327-011e-4328-a56c-3c1d4bc02e9a",
   "metadata": {},
   "outputs": [],
   "source": [
    "test_x"
   ]
  },
  {
   "cell_type": "code",
   "execution_count": 28,
   "id": "a2b45c06-753c-485f-8a9b-8549d25e2e43",
   "metadata": {},
   "outputs": [],
   "source": [
    "test_y"
   ]
  },
  {
   "cell_type": "code",
   "execution_count": 29,
   "id": "b19b0b2e-c773-41f1-8d9a-f75f6969d62a",
   "metadata": {},
   "outputs": [],
   "source": [
    "predicted_values = lin_model.predict(pd.DataFrame(test_x))\n",
    "plt.scatter(predicted_values,test_y)\n",
    "plt.show()"
   ]
  },
  {
   "cell_type": "code",
   "execution_count": 32,
   "id": "d5b5fdc5-0476-4eb6-bd1c-e8a4584bc502",
   "metadata": {},
   "outputs": [],
   "source": [
    "predicted_values = lin_model.predict(pd.DataFrame(train_x))\n",
    "plt.scatter(predicted_values,train_y)\n",
    "plt.show()"
   ]
  },
  {
   "cell_type": "markdown",
   "id": "46f9e7a0-f617-44c6-8646-22752ac018a3",
   "metadata": {},
   "source": [
    "**print mean square error and root mean square error and absolute error**"
   ]
  },
  {
   "cell_type": "code",
   "execution_count": 12,
   "id": "17c251fa-c12a-42d3-8e09-d6a12f148ca0",
   "metadata": {},
   "outputs": [],
   "source": [
    "import pandas as pd\n",
    "import numpy as np\n",
    "from sklearn.metrics import mean_squared_error\n",
    "\n",
    "# Load the Excel file (Replace 'your_file.xlsx' with your actual file name)\n",
    "# Print first few rows to check data\n",
    "print(df.head())\n",
    "\n",
    "# Assuming two columns: 'Actual' and 'Predicted' exist in the Excel file\n",
    "y_actual = df['crim'].values\n",
    "y_pred = df['medv'].values\n",
    "\n",
    "# Calculate MSE\n",
    "mse = mean_squared_error(y_actual, y_pred)\n",
    "\n",
    "print(\"Mean Squared Error:\", mse)\n"
   ]
  },
  {
   "cell_type": "code",
   "execution_count": 18,
   "id": "8d92c3f7-43f3-4e77-959e-d94bc773cc17",
   "metadata": {},
   "outputs": [],
   "source": [
    "import numpy as np\n",
    "import pandas as pd\n",
    "from sklearn.metrics import mean_squared_error\n",
    "from sklearn.linear_model import LinearRegression\n",
    "from sklearn.model_selection import train_test_split"
   ]
  },
  {
   "cell_type": "code",
   "execution_count": 20,
   "id": "7bac07bf-6da9-48e8-98e9-54b556810893",
   "metadata": {},
   "outputs": [],
   "source": [
    "X = df.drop(columns=['medv'])\n",
    "y = df['medv']\n",
    "X_train, X_test, y_train, y_test = train_test_split(X, y, test_size=0.2, random_state=42)\n",
    "model = LinearRegression()\n",
    "model.fit(X_train, y_train)\n",
    "y_pred = model.predict(X_test)\n",
    "mse = mean_squared_error(y_test, y_pred)\n",
    "print(\"Mean Squared Error:\", mse)\n"
   ]
  },
  {
   "cell_type": "code",
   "execution_count": 22,
   "id": "228bba0c-7b92-41ab-bdb6-6a613e4919dd",
   "metadata": {},
   "outputs": [],
   "source": [
    "x=df.drop(columns=['zn'])\n",
    "y=df['zn']\n",
    "x_train,x_test,y_train,y_test=train_test_split(x,y,test_size=0.2,random_state=12)\n",
    "model=LinearRegression()\n",
    "model.fit(x_train,y_train)\n",
    "y_pred=model.predict(x_test)\n",
    "mse=mean_squared_error(y_test,y_pred)\n",
    "print(mse)\n",
    "#root mean squrae error\n",
    "rmse=np.sqrt(mse)\n",
    "print(\"the root mean square error are:\",rmse)"
   ]
  },
  {
   "cell_type": "markdown",
   "id": "6b578a34-ab86-4214-84b3-bbb129c4c50a",
   "metadata": {},
   "source": [
    "**confusion matrix are:**\n",
    "**true postitive,true negative ,false positive,false negative**"
   ]
  },
  {
   "cell_type": "markdown",
   "id": "32669937-4808-480d-95dc-e1d0958c5c23",
   "metadata": {},
   "source": [
    "**false positive is an error **"
   ]
  },
  {
   "cell_type": "code",
   "execution_count": null,
   "id": "f0014de5-02d2-40f9-8be9-9be187a0f8c7",
   "metadata": {},
   "outputs": [],
   "source": []
  }
 ],
 "metadata": {
  "kernelspec": {
   "display_name": "Python [conda env:base] *",
   "language": "python",
   "name": "conda-base-py"
  },
  "language_info": {
   "codemirror_mode": {
    "name": "ipython",
    "version": 3
   },
   "file_extension": ".py",
   "mimetype": "text/x-python",
   "name": "python",
   "nbconvert_exporter": "python",
   "pygments_lexer": "ipython3",
   "version": "3.11.7"
  }
 },
 "nbformat": 4,
 "nbformat_minor": 5
}
